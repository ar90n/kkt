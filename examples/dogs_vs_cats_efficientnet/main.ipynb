{
 "cells": [
  {
   "cell_type": "code",
   "execution_count": 1,
   "metadata": {},
   "outputs": [],
   "source": [
    "import os\n",
    "import torch\n",
    "import torch.nn.functional as F\n",
    "import pytorch_lightning as pl\n",
    "from torch.utils.data import Dataset, DataLoader\n",
    "import timm\n",
    "from pathlib import Path\n",
    "from torchvision import transforms\n",
    "from PIL import Image\n",
    "import zipfile"
   ]
  },
  {
   "cell_type": "code",
   "execution_count": 2,
   "metadata": {},
   "outputs": [],
   "source": [
    "if \"KAGGLE_CONTAINER_NAME\" in os.environ:\n",
    "    import kaggle_timm_pretrained\n",
    "    kaggle_timm_pretrained.patch()"
   ]
  },
  {
   "cell_type": "code",
   "execution_count": null,
   "metadata": {},
   "outputs": [],
   "source": [
    "ROOT_DIR =  Path(os.environ.get(\"ROOT_DIR\", \"../input/dogs-vs-cats\"))\n",
    "with zipfile.ZipFile(str(ROOT_DIR / \"train.zip\"),\"r\") as z:\n",
    "    z.extractall(\".\")\n",
    "\n",
    "with zipfile.ZipFile(str(ROOT_DIR / \"test1.zip\"),\"r\") as z:\n",
    "    z.extractall(\".\")\n",
    "    \n",
    "TRAIN_DATA_DIR = Path(\"/kaggle/working/train\")\n",
    "TEST_DATA_DIR = Path(\"/kaggle/working/test1\")"
   ]
  },
  {
   "cell_type": "code",
   "execution_count": 3,
   "metadata": {},
   "outputs": [],
   "source": [
    "class DogsVsCatsDataset(Dataset):\n",
    "    def __init__(self,  root_dir, transform=None, train=True):\n",
    "        self._transform = transform\n",
    "        self._train = train\n",
    "        self._img_paths =list(root_dir.glob(\"*.jpg\"))\n",
    "        if not self._train:\n",
    "            self._img_paths = sorted(self._img_paths, key=lambda p:int(int(p.stem)))\n",
    "        \n",
    "    def __len__(self):\n",
    "        return len(self._img_paths)\n",
    "    \n",
    "    def __getitem__(self, idx):\n",
    "        if torch.is_tensor(idx):\n",
    "            idx = idx.tolist()\n",
    "        \n",
    "        img_path = self._img_paths[idx]\n",
    "        img = Image.open(img_path)\n",
    "        if self._transform:\n",
    "            img = self._transform(img)\n",
    "            \n",
    "        if self._train:\n",
    "            label = int(img_path.name.startswith(\"dog\"))\n",
    "            return img, label\n",
    "        return img"
   ]
  },
  {
   "cell_type": "code",
   "execution_count": null,
   "metadata": {},
   "outputs": [],
   "source": [
    "class Network(pl.LightningModule):\n",
    "    def __init__(self):\n",
    "        super().__init__()\n",
    "        self.net = timm.create_model(\"efficientnet_b2\", pretrained=True, num_classes=2)\n",
    "        \n",
    "    def forward(self, x):\n",
    "        return self.net(x)\n",
    "    \n",
    "    def training_step(self, batch, batch_idx):\n",
    "        x, y = batch\n",
    "        loss = F.cross_entropy(self(x), y)\n",
    "        return {'loss': loss}\n",
    "    \n",
    "    def configure_optimizers(self):\n",
    "        return torch.optim.Adam(self.parameters(), lr=0.02)\n",
    "    \n",
    "    def setup(self, stage):\n",
    "        train_dataset = DogsVsCatsDataset(\n",
    "            TRAIN_DATA_DIR,\n",
    "            transform=transforms.Compose([\n",
    "                transforms.Resize((224, 224)), \n",
    "                transforms.ToTensor()\n",
    "            ])\n",
    "        )\n",
    "        train_size = int(len(train_dataset) * 0.8)\n",
    "        val_size = int(len(train_dataset) - train_size)\n",
    "        self._train_dataset, self._val_dataset = torch.utils.data.random_split(train_dataset, [train_size, val_size])\n",
    "        self._test_dataset =DogsVsCatsDataset(\n",
    "            TEST_DATA_DIR,\n",
    "            transform=transforms.Compose([\n",
    "                transforms.Resize((224, 224)), \n",
    "                transforms.ToTensor()\n",
    "            ]),\n",
    "            train=False\n",
    "        )     \n",
    "    \n",
    "    def train_dataloader(self):\n",
    "        return DataLoader(self._train_dataset, batch_size=32, num_workers=4, shuffle=True)\n",
    "\n",
    "    def validation_step(self, batch, batch_idx):\n",
    "        x ,y = batch\n",
    "        loss = F.cross_entropy(self(x), y)\n",
    "        return {'val_loss': loss}\n",
    "    \n",
    "    def validation_epoch_end(self, outputs):\n",
    "        avg_loss = torch.stack([x['val_loss'] for x in outputs]).mean()\n",
    "        return {\"val_loss\": avg_loss}\n",
    "    \n",
    "    def val_dataloader(self):\n",
    "        return DataLoader(self._val_dataset, batch_size=4, num_workers=4)\n",
    "    \n",
    "    def test_step(self, batch, batch_idx):\n",
    "        x = batch\n",
    "        label = torch.argmax(self(x), dim=1)\n",
    "        return {\"label\": (batch_idx, label)}\n",
    "\n",
    "    def test_epoch_end(self, outputs):\n",
    "        return dict([x[\"label\"] for x in outputs])\n",
    "    \n",
    "    def test_dataloader(self):\n",
    "        return DataLoader(self._test_dataset, batch_size=1)"
   ]
  },
  {
   "cell_type": "code",
   "execution_count": null,
   "metadata": {},
   "outputs": [],
   "source": [
    "model = Network()\n",
    "trainer = pl.Trainer(gpus=1, max_epochs=10)\n",
    "trainer.fit(model)"
   ]
  },
  {
   "cell_type": "code",
   "execution_count": null,
   "metadata": {},
   "outputs": [],
   "source": [
    "result = trainer.test()"
   ]
  },
  {
   "cell_type": "code",
   "execution_count": null,
   "metadata": {},
   "outputs": [],
   "source": [
    "submission_csv = \"\\n\".join([f\"{id},{label}\" for id, label in result.items()])\n",
    "Path(\"./submission.csv\").write_text(submission_csv)"
   ]
  }
 ],
 "metadata": {
  "kernelspec": {
   "display_name": "Python 3",
   "language": "python",
   "name": "python3"
  },
  "language_info": {
   "codemirror_mode": {
    "name": "ipython",
    "version": 3
   },
   "file_extension": ".py",
   "mimetype": "text/x-python",
   "name": "python",
   "nbconvert_exporter": "python",
   "pygments_lexer": "ipython3",
   "version": "3.7.3"
  }
 },
 "nbformat": 4,
 "nbformat_minor": 4
}
